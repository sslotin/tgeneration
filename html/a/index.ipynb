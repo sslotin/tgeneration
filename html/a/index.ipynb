{
 "cells": [
  {
   "cell_type": "markdown",
   "metadata": {},
   "source": [
    "# Алгоритмы"
   ]
  },
  {
   "cell_type": "markdown",
   "metadata": {},
   "source": [
    "## Параллель А\n",
    "\n",
    "\n",
    "\n",
    "Преподаватели:\n",
    "\n",
    "* [Даниил Николенко](http://t.me/qoo2p5)\n",
    "* [Филипп Грибов](http://t.me/grphil)"
   ]
  },
  {
   "cell_type": "markdown",
   "metadata": {},
   "source": [
    "## Параллель B\n",
    "\n",
    "Осень:\n",
    "* [Дерево отрезков](segtree)\n",
    "* [Декартово дерево](treap)\n",
    "* [Хэширование](hashing)\n",
    "* [Префикс- и зет-функция](strings)\n",
    "* [Бор и Ахо-Корасик](trie)\n",
    "* [Минимальные остовы](mst)\n",
    "* [Наименьший общий предок](lca)\n",
    "* [Корневая декомпозиция](sqrt)\n",
    "\n",
    "Весна:\n",
    "1. ???\n",
    "\n",
    "Преподаватели:\n",
    "* [Сергей Слотин](http://t.me/bydlokoder) — B1\n",
    "* [Максим Деб Натх](http://t.me/DebNatkh) — B2\n",
    "* [Андрей Чулков](http://t.me/achulkov2) — B2\n",
    "* [Артём Рябов](http://t.me/tyomar) — B3"
   ]
  },
  {
   "cell_type": "markdown",
   "metadata": {},
   "source": [
    "## Параллель C\n",
    "\n",
    "Осень:\n",
    "\n",
    "* [Сортировки](sorting)\n",
    "* [Бинарный поиск](binary_search)\n",
    "* [Теория чисел](number_theory)\n",
    "* [Стандартная библиотека шаблонов С++](stl)\n",
    "* [Жадный алгоритм](greedy)\n",
    "* [Введение в динамическое программирование](dp_intro)\n",
    "* [Рюкзак, НВП и НОП]()\n",
    "* [Сканирующая прямая](scanline)\n",
    "* [Структуры данных](data_structures)\n",
    "* [Графы и поиск в глубину](dfs)\n",
    "* [Поиск в ширину и алгоритм Дейкстры](bfs)\n",
    "\n",
    "Весна:\n",
    "\n",
    "1. ???\n",
    "\n",
    "\n",
    "Преподаватели:\n",
    "\n",
    "* [Андрей Гаркавый](http://t.me/andrewgark) — C1\n",
    "* [Антон Алёшин](http://t.me/pntn13) — C2\n",
    "* [Максим Гришкин](http://t.me/riskingh) — C2\n",
    "* [Глеб Лобанов](http://t.me/Glebodin) — C3"
   ]
  }
 ],
 "metadata": {
  "kernelspec": {
   "display_name": "Python 3",
   "language": "python",
   "name": "python3"
  },
  "language_info": {
   "codemirror_mode": {
    "name": "ipython",
    "version": 3
   },
   "file_extension": ".py",
   "mimetype": "text/x-python",
   "name": "python",
   "nbconvert_exporter": "python",
   "pygments_lexer": "ipython3",
   "version": "3.6.6"
  }
 },
 "nbformat": 4,
 "nbformat_minor": 2
}
