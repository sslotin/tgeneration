{
 "cells": [
  {
   "cell_type": "markdown",
   "metadata": {},
   "source": [
    "# Tinkoff Generation — Алгоритмы"
   ]
  },
  {
   "cell_type": "markdown",
   "metadata": {},
   "source": [
    "## Параллель А\n",
    "\n",
    "1. [Сортировки]()\n",
    "\n",
    "Преподаватели:\n",
    "* [Даниил Николенко](http://t.me/qoo2p5)\n",
    "* [Филипп Грибов](http://t.me/grphil)"
   ]
  },
  {
   "cell_type": "markdown",
   "metadata": {},
   "source": [
    "## Параллель B\n",
    "\n",
    "* ...\n",
    "\n",
    "Преподаватели:\n",
    "* [Сергей Слотин](http://t.me/bydlokoder) — B1\n",
    "* [Максим Деб Натх](http://t.me/DebNatkh) — B2\n",
    "* [Андрей Чулков](http://t.me/achulkov2) — B2\n",
    "* [Артём Рябов](http://t.me/tyomar) — B3"
   ]
  },
  {
   "cell_type": "markdown",
   "metadata": {},
   "source": [
    "## Параллель C\n",
    "\n",
    "* ...\n",
    "\n",
    "Преподаватели:\n",
    "\n",
    "* [Андрей Гаркавый](http://t.me/andrewgark) — C1\n",
    "* [Антон Алёшин](http://t.me/pntn13) — C2\n",
    "* [Максим Гришкин](http://t.me/riskingh) — C2\n",
    "* [Глеб Лобанов](http://t.me/Glebodin) — C3"
   ]
  }
 ],
 "metadata": {
  "kernelspec": {
   "display_name": "Python 3",
   "language": "python",
   "name": "python3"
  },
  "language_info": {
   "codemirror_mode": {
    "name": "ipython",
    "version": 3
   },
   "file_extension": ".py",
   "mimetype": "text/x-python",
   "name": "python",
   "nbconvert_exporter": "python",
   "pygments_lexer": "ipython3",
   "version": "3.6.6"
  }
 },
 "nbformat": 4,
 "nbformat_minor": 2
}
