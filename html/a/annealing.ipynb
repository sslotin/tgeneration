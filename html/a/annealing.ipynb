{
 "cells": [
  {
   "cell_type": "markdown",
   "metadata": {},
   "source": [
    "# Метод отжига\n",
    "\n",
    "* Эвристический метод глобальной оптимизации\n",
    "* Работает с дискретными функциями в предположении, что у близких «точек» близкое значение, и есть что-то типа градиента\n",
    "* Очень простой в написании\n",
    "* Никаких гарантий нет, но хорошо работает на практике\n",
    "* Метод настолько мощный, что иногда им можно сдать задачи, у которых автором предполагалось адекватное решение (пример: [Ильдар Гайнуллин сдает отжигом div2E на динамику по подмножествам](http://codeforces.com/contest/745/submission/23067030))"
   ]
  },
  {
   "cell_type": "markdown",
   "metadata": {},
   "source": [
    "![](https://camo.githubusercontent.com/574bf26bf301827efaa18748440fa77fab8c5a4f/68747470733a2f2f75706c6f61642e77696b696d656469612e6f72672f77696b6970656469612f636f6d6d6f6e732f642f64352f48696c6c5f436c696d62696e675f776974685f53696d756c617465645f416e6e65616c696e672e676966)"
   ]
  },
  {
   "cell_type": "markdown",
   "metadata": {},
   "source": [
    "## Постановка задачи\n",
    "\n",
    "Имеется некоторая функция $f(x)$, которую мы хотим минимизировать.\n",
    "\n",
    "Наука решать эту задачу в общем случае не умеет, и вряд ли когда-либо научится."
   ]
  },
  {
   "cell_type": "markdown",
   "metadata": {},
   "source": [
    "TODO: описание алгоритма, физическая аналогия, конструирование гладких функций"
   ]
  },
  {
   "cell_type": "markdown",
   "metadata": {},
   "source": [
    "При решении конкретной задачи нужно менять только функцию `fitness` и, возможно, параметры алгоритма."
   ]
  },
  {
   "cell_type": "markdown",
   "metadata": {},
   "source": [
    "## Ферзи"
   ]
  },
  {
   "cell_type": "markdown",
   "metadata": {},
   "source": [
    "Рассмотрим такую задачу: дана шахматная доска $n \\times n$ и $n$ ферзей. Нужно расставить их так, чтобы они не били друг друга.\n",
    "\n",
    "Будем кодировать состояние перестановкой чисел от $1$ до $n$. Такое представление кодирует не все состояния, но оно точно не учитывает те, где ферзи бьют друг друга по вертикали или горизонтали.\n",
    "\n",
    "Выберем такую функцию: fitness(p) = число пар ферзей, которые бьют друг друга."
   ]
  },
  {
   "cell_type": "markdown",
   "metadata": {},
   "source": [
    "Важная деталь: скорость одной итерации прямо пропорционально скорости работы `fitness`, поэтому очень важно реализовать её эффективно. Конкретно здесь её можно реализовать за $O(n^2)$ (используется в коде для наглядности), $O(n)$ и даже $O(1)$. "
   ]
  },
  {
   "cell_type": "markdown",
   "metadata": {},
   "source": [
    "Мы будем использовать `python`, потому что в нём удобнее строить графики. Эквивалентный код на C++ приведена сразу после."
   ]
  },
  {
   "cell_type": "code",
   "execution_count": 5,
   "metadata": {},
   "outputs": [],
   "source": [
    "import random\n",
    "\n",
    "# Эти библиотеки будут нужны, чтобы рисовать графики:\n",
    "import matplotlib.pyplot as plt\n",
    "%matplotlib inline\n",
    "\n",
    "import seaborn as sns\n",
    "sns.set()"
   ]
  },
  {
   "cell_type": "code",
   "execution_count": 6,
   "metadata": {
    "collapsed": true
   },
   "outputs": [],
   "source": [
    "def fitness(p):\n",
    "    s = 0\n",
    "    for i in range(len(p)):\n",
    "        d = 1\n",
    "        for j in range(i):\n",
    "            if abs(i-j) == abs(p[i]-p[j]): # ферзи стоят на одной диагонали\n",
    "                d = 0\n",
    "        s += d\n",
    "    return s"
   ]
  },
  {
   "cell_type": "code",
   "execution_count": 13,
   "metadata": {},
   "outputs": [
    {
     "name": "stdout",
     "output_type": "stream",
     "text": [
      "Best score: 95\n"
     ]
    },
    {
     "data": {
      "image/png": "[encoded data removed]",
      "text/plain": [
       "<matplotlib.figure.Figure at 0x7f80c241c0b8>"
      ]
     },
     "metadata": {},
     "output_type": "display_data"
    }
   ],
   "source": [
    "n = 100 # кол-во ферзей\n",
    "k = 1000 # кол-во итераций\n",
    "p = list(range(n)) # исходная перестановка\n",
    "\n",
    "scores = []\n",
    "\n",
    "t = 1\n",
    "for i in range(k):\n",
    "    # уменьшаем температуру\n",
    "    t *= 0.99 # этот параметр лучше перебрать руками\n",
    "    \n",
    "    # копируем перестановку и делаем небольшое изменение\n",
    "    q = p[:]\n",
    "    a, b = random.sample(range(n), 2)\n",
    "    q[a], q[b] = q[b], q[a]\n",
    "    \n",
    "    # считаем разницу fitness и решаем, нужно ли переходить в новое состояние\n",
    "    d = fitness(q) - fitness(p)\n",
    "    if d > 0 or random.random() < math.exp(d/t):\n",
    "        p = q[:]\n",
    "    scores += [fitness(q)]\n",
    "\n",
    "print('Best score:', max(scores))\n",
    "plt.plot(scores)\n",
    "plt.show()"
   ]
  },
  {
   "cell_type": "markdown",
   "metadata": {},
   "source": [
    "Примерно эквивалентный код на C++:"
   ]
  },
  {
   "cell_type": "code",
   "execution_count": null,
   "metadata": {
    "collapsed": true
   },
   "outputs": [],
   "source": [
    "const int n = 100, k = 1000;\n",
    "\n",
    "int f(vector<int> p) {\n",
    "    int s = 0;\n",
    "    for (int i = 0; i < n; i++) {\n",
    "        int d = 1;\n",
    "        for (int j = 0; j < i; j++)\n",
    "            if abs(i-j) == abs(p[i]-p[j]):\n",
    "                d = 0;\n",
    "        s += d;\n",
    "    }\n",
    "    return s;\n",
    "}\n",
    "\n",
    "double rnd() { return double(rand()) / RAND_MAX; }\n",
    "\n",
    "int main() {\n",
    "\n",
    "    for (int i = 0; i < n; i++)\n",
    "        v[i] = i;\n",
    "\n",
    "    int ans = 1;\n",
    "\n",
    "    double t = 1;\n",
    "    for (int i = 0; i < k; i++) {\n",
    "        t *= 0.99;\n",
    "        vector<int> u = v;\n",
    "        swap(u[rand()%n], u[rand()%n]);\n",
    "        int val = f(u);\n",
    "        if (val > ans || rnd() < exp((val-ans)/t))\n",
    "            v = u, ans = val;\n",
    "        if (ans == n) break;\n",
    "    }\n",
    "\n",
    "    for (int x : v)\n",
    "        cout << x+1 << \" \";\n",
    "\n",
    "    return 0;\n",
    "}"
   ]
  }
 ],
 "metadata": {
  "kernelspec": {
   "display_name": "Python 3",
   "language": "python",
   "name": "python3"
  },
  "language_info": {
   "codemirror_mode": {
    "name": "ipython",
    "version": 3
   },
   "file_extension": ".py",
   "mimetype": "text/x-python",
   "name": "python",
   "nbconvert_exporter": "python",
   "pygments_lexer": "ipython3",
   "version": "3.5.2"
  }
 },
 "nbformat": 4,
 "nbformat_minor": 2
}
