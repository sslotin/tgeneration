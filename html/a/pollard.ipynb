{
 "cells": [
  {
   "cell_type": "markdown",
   "metadata": {},
   "source": [
    "# Факторизация за $O(\\sqrt[4]{n})$"
   ]
  },
  {
   "cell_type": "markdown",
   "metadata": {},
   "source": [
    "Наука умеет раскладывать целые числа на множители за $O(n^\\frac{1}{4})$. Алгоритм рандомизированный, поэтому нам сначала понадобится один факт из теорвера."
   ]
  },
  {
   "cell_type": "markdown",
   "metadata": {},
   "source": [
    "## Парадокс дней рождений\n",
    "\n",
    "Пусть $f(n, d)$ это вероятность того, что в группе из $n$ человек ни у кого не совпали дни рождения.\n",
    "Будем считать, что дни рождения распределены независимо и равномерно в промежутке от $1$ до $d$.\n",
    "\n",
    "$$f(n, d) = (1-\\frac{1}{d}) \\times (1-\\frac{2}{d}) \\times ... \\times (1-\\frac{n-1}{d})$$\n",
    "\n",
    "Попытаемся оценить $f$:\n",
    "\n",
    "$$\n",
    "\\begin{align}\n",
    "  \\begin{aligned}\n",
    "    e^x & = 1 + x + \\frac{x^2}{2!} + \\ldots & \\text{(ряд Тейлора для экспоненты)} \\\\\n",
    "    & \\simeq 1 + x & \\text{(аппроксимация для $|x| \\ll 1$)} \\\\\n",
    "    e^{-\\frac{n}{d}} & \\simeq 1 - \\frac{n}{d} & \\text{(подставим $\\frac{n}{d} \\ll 1$)} \\\\\n",
    "    f(n, d) & \\simeq e^{-\\frac{1}{d}} \\times e^{-\\frac{2}{d}} \\times \\ldots \\times e^{-\\frac{n-1}{d}} & \\\\\n",
    "    & = e^{-\\frac{n(n-1)}{2d}} & \\\\\n",
    "    & \\simeq e^{-\\frac{n^2}{2d}} & \\\\\n",
    "  \\end{aligned}\n",
    "\\end{align}\n",
    "$$"
   ]
  },
  {
   "cell_type": "markdown",
   "metadata": {},
   "source": [
    "Из формулы более-менее понятно, что вероятность $\\frac{1}{2}$ достигается при $n \\approx \\sqrt{d}$ и в этой точке изменяется быстро. Для самого алгоритма нам понадобится следующее:\n",
    "\n",
    "**Утверждение**. В мультимножество нужно добавить $O(\\sqrt{n})$ случайных чисел от 1 до n, чтобы какие-то два совпали."
   ]
  },
  {
   "cell_type": "markdown",
   "metadata": {},
   "source": [
    "Если вы не доверяете математике, посмотрите на графики: "
   ]
  },
  {
   "cell_type": "code",
   "execution_count": 60,
   "metadata": {
    "collapsed": true
   },
   "outputs": [],
   "source": [
    "import matplotlib.pyplot as plt\n",
    "%matplotlib inline\n",
    "\n",
    "import seaborn as sns\n",
    "sns.set()"
   ]
  },
  {
   "cell_type": "code",
   "execution_count": 63,
   "metadata": {
    "collapsed": true
   },
   "outputs": [],
   "source": [
    "def f(n, d):\n",
    "    p = 1\n",
    "    for x in range(1, n):\n",
    "        p *= 1-x/d\n",
    "    return p\n",
    "\n",
    "def g(n, d):\n",
    "    return 2.71**(-0.5 * n**2 / d)"
   ]
  },
  {
   "cell_type": "code",
   "execution_count": 64,
   "metadata": {},
   "outputs": [
    {
     "data": {
      "image/png": "[encoded data removed]",
      "text/plain": [
       "<matplotlib.figure.Figure at 0x7f5ae87f5dd8>"
      ]
     },
     "metadata": {},
     "output_type": "display_data"
    }
   ],
   "source": [
    "exact = [f(n, 365) for n in range(40)]\n",
    "approx = [g(n, 365) for n in range(40)]\n",
    "plt.plot(exact)\n",
    "plt.plot(approx)\n",
    "plt.show()"
   ]
  },
  {
   "cell_type": "markdown",
   "metadata": {},
   "source": [
    "На графике две линии, если не видно, — аппроксимация настолько хороша. Чтобы продемонстрировать $n \\approx \\sqrt{d}$, построим такую же для больших чисел и перейдём в логарифмический масштаб."
   ]
  },
  {
   "cell_type": "code",
   "execution_count": 75,
   "metadata": {},
   "outputs": [
    {
     "data": {
      "image/png": "[encoded data removed]",
      "text/plain": [
       "<matplotlib.figure.Figure at 0x7f5ae71eb7f0>"
      ]
     },
     "metadata": {},
     "output_type": "display_data"
    }
   ],
   "source": [
    "approx = [g(n, 10**10) for n in range(10**6)]\n",
    "plt.xscale('log')\n",
    "plt.plot(approx)\n",
    "plt.show()"
   ]
  },
  {
   "cell_type": "markdown",
   "metadata": {},
   "source": [
    "## $\\rho$-алгоритм Полларда\n",
    "\n",
    "Итак, мы хотим факторизовать число $n$. Предположим, что $n = p q$ и $p \\approx q$. Понятно, что труднее случая, наверное, нет. Алгоритм итеративно ищет наименьший делитель и сводит задачу к как минимум в два раза меньшей.\n",
    "\n",
    "Возьмём произвольную «достаточно случайную» с точки зрения ТЧ функцию. Например $f(x) = (x+1)^2 \\mod n$.\n",
    "\n",
    "Как выглядит граф, в котором из вершины есть единственное ребро $x \\to f(x)$? Такой граф называется *функциональным*. Если в нём нарисовать «траекторию» произвольного элемента, — какой-то путь, превращающийся в цикл, — то получится что-то похожее на букву $\\rho$ (ро). Алгоритм из-за этого так и назван.\n",
    "\n",
    "Рассмотрим траекторию какого-нибудь элемента $x_0$: {$x_0$, $f(x_0)$, $f(f(x_0))$, $\\ldots$}. Теперь сделаем из неё новую последовательность, взяв каждый элемент по модулю $p$ — наименьшего из простых делителей $n$. \n",
    "\n",
    "**Утверждение**. Ожидаемая длина цикла в этой последовательности $O(\\sqrt[4]{n})$.\n",
    "\n",
    "*Доказательство:* так как $p$ — меньший делитель, то $p \\leq \\sqrt{n}$. Теперь просто подставим в предыдущее утверждение: в множество нужно добавить $O(\\sqrt{p}) = O(\\sqrt[4]{n})$ элементов, чтобы какие-то два совпали, а значит последовательность зациклилась."
   ]
  },
  {
   "cell_type": "markdown",
   "metadata": {},
   "source": [
    "Если мы найдём цикл в такой последовательности (то есть такие $i$ и $j$, что $f^i(x_0) \\equiv f^j(x_0)$), то мы можем восстановить какой-то делитель $n$, а именно $\\gcd(|f^i(x_0) - f^j(x_0)|, n)$ — это число меньше $n$ и делится на $p$.\n",
    "\n",
    "Алгоритм по сути находит цикл в этой последовательности, используя для этого стандартный алгоритм («черепаха и заяц»): будем поддерживать два удаляющиеся друг от друга указателя $i$ и $j$ ($i = 2j$) и проверять, что $f^i(x_0) \\equiv f^j(x_0) \\pmod p$, что эквивалентно проверке $\\gcd(|f^i(x_0) - f^j(x_0)|, n) > 1$."
   ]
  },
  {
   "cell_type": "code",
   "execution_count": 5,
   "metadata": {
    "collapsed": true
   },
   "outputs": [],
   "source": [
    "from math import gcd\n",
    "from random import randint"
   ]
  },
  {
   "cell_type": "code",
   "execution_count": 6,
   "metadata": {
    "collapsed": true
   },
   "outputs": [],
   "source": [
    "def find_divisor(n, seed = 1, f = lambda x: (x+1)**2):\n",
    "    x = y = seed\n",
    "    d = 1\n",
    "    while d == 1:\n",
    "        x = f(f(x)) % n\n",
    "        y = f(y) % n\n",
    "        d = gcd(abs(x-y), n)\n",
    "    return d"
   ]
  },
  {
   "cell_type": "code",
   "execution_count": 7,
   "metadata": {},
   "outputs": [
    {
     "name": "stdout",
     "output_type": "stream",
     "text": [
      "[3, 21, 7, 21, 21, 21, 3, 3, 7, 21, 21, 7, 3, 3, 21, 21, 21, 7, 21, 3, 3, 3, 21, 7, 21, 21, 21, 3, 3, 7, 21, 21, 7, 3, 3, 21, 21, 21, 7, 21, 3, 3, 3, 21, 7, 21, 21, 21, 3, 3, 7, 21, 21, 7, 3, 3, 21, 21, 21, 7, 21, 3, 3, 3, 21, 7, 21, 21, 21, 3, 3, 7, 21, 21, 7, 3, 3, 21, 21, 21, 7, 21, 3, 3, 3, 21, 7, 21, 21, 21, 3, 3, 7, 21, 21, 7, 3, 3, 21, 21, 21, 7, 21, 3, 3]\n"
     ]
    }
   ],
   "source": [
    "n = 3*5*7 # = 105\n",
    "print([find_divisor(n, seed=i) for i in range(n)])"
   ]
  },
  {
   "cell_type": "code",
   "execution_count": 8,
   "metadata": {},
   "outputs": [
    {
     "name": "stdout",
     "output_type": "stream",
     "text": [
      "[1000000007, 1000000009, 1000000009, 1000000009, 1000000009, 1000000009, 1000000007, 1000000009, 1000000009, 1000000009, 1000000007, 1000000009, 1000000007, 1000000009, 1000000009, 1000000009, 1000000009, 1000000009, 1000000007, 1000000009]\n"
     ]
    }
   ],
   "source": [
    "n = (10**9+7)*(10**9+9)\n",
    "print([find_divisor(n, seed=randint(1, n)) for _ in range(20)])"
   ]
  },
  {
   "cell_type": "markdown",
   "metadata": {},
   "source": [
    "Так как алгоритм рандомизированный, при полной реализации нужно учитывать разные детали. Например, что иногда делитель не находится (нужно запускать несколько раз), или что при попытке факторизовать простое число он будет работать за $O(\\sqrt{n})$ (нужно добавить отсечение по времени)."
   ]
  },
  {
   "cell_type": "markdown",
   "metadata": {},
   "source": [
    "##  Разное\n",
    "\n",
    "Формально, мы показали, что алгоритм работает за $O(\\sqrt[4]{n} \\log n)$ за счёт поиска $\\gcd$, но сложной теорией чисел можно доказать, что этого логарифма в асимптотике на самом деле нет. \n",
    "\n",
    "Пародокс дней рождения также можно использовать при подсчёте вероятности коллизии при хэшировании. Хороший модуль должен быть не менее квадрата количества хэшей, а чего-то вроде $5 n^2$ уже почти всегда достаточно."
   ]
  }
 ],
 "metadata": {
  "kernelspec": {
   "display_name": "Python 3",
   "language": "python",
   "name": "python3"
  },
  "language_info": {
   "codemirror_mode": {
    "name": "ipython",
    "version": 3
   },
   "file_extension": ".py",
   "mimetype": "text/x-python",
   "name": "python",
   "nbconvert_exporter": "python",
   "pygments_lexer": "ipython3",
   "version": "3.5.2"
  }
 },
 "nbformat": 4,
 "nbformat_minor": 2
}
