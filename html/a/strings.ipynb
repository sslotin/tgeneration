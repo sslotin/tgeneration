{
 "cells": [
  {
   "cell_type": "markdown",
   "metadata": {
    "colab_type": "text",
    "id": "bMgQSBX2Ulp3"
   },
   "source": [
    "# Базовые строковые алгоритмы\n",
    "\n",
    "## Префикс-функция\n",
    "\n",
    "Рассмотрим задачу, которая возникает каждый раз, когда вы делаете `ctrl+f`:\n",
    "\n",
    "> Есть большой текст $t$. Нужно найти все вхождения строки $s$ в него.\n",
    "\n",
    "Наивное решение со сравнением всех подстрок $t$ длины $|s|$ со строкой $s$ работает за $O(|t| \\cdot |s|)$. Если текст большой, то длинные слова в нем искать становится очень долго.\n",
    "\n",
    "Для решения этой задачи за линейное время придумали **префикс-функцию**.\n",
    "\n",
    "**Определение**. Префикс-функцией от строки $s$ называется массив $p$, где $p_i$ равно длине самого большого префикса строки $s_0 s_1 s_2 \\ldots s_i$, который также является и суффиксом этой строки (не считая всю строку).\n",
    "\n",
    "Например, самый большой префикс, который равен суффиксу для строки «aataataa» — это «aataa»; префикс-функция для этой строки равна $[0, 1, 0, 1, 2, 3, 4, 5]$."
   ]
  },
  {
   "cell_type": "code",
   "execution_count": 7,
   "metadata": {
    "colab": {
     "base_uri": "https://localhost:8080/",
     "height": 35
    },
    "colab_type": "code",
    "executionInfo": {
     "elapsed": 638,
     "status": "ok",
     "timestamp": 1541170751859,
     "user": {
      "displayName": "Сергей Слотин",
      "photoUrl": "https://lh3.googleusercontent.com/-_FG0PkHG5nQ/AAAAAAAAAAI/AAAAAAAAAFY/Sckq9Gkm-mc/s64/photo.jpg",
      "userId": "13456807618518804390"
     },
     "user_tz": -180
    },
    "id": "RUT-T92559lq",
    "outputId": "b2a1115c-11ec-46c8-bc95-a62aa3458597"
   },
   "outputs": [
    {
     "data": {
      "text/plain": [
       "[0, 0, 1, 0, 1, 2, 3, 4]"
      ]
     },
     "execution_count": 7,
     "metadata": {
      "tags": []
     },
     "output_type": "execute_result"
    }
   ],
   "source": [
    "def slow_prefix_function(s):\n",
    "    n = len(s)\n",
    "    p = [0]*n\n",
    "    for i in range(n):\n",
    "        prefix = s[:i]\n",
    "        for l in range(1, i):\n",
    "            if prefix[:l] == prefix[-l:]:\n",
    "                p[i] = l\n",
    "    return p\n",
    "\n",
    "slow_prefix_function('aataataa')"
   ]
  },
  {
   "cell_type": "markdown",
   "metadata": {
    "colab_type": "text",
    "id": "rm6kd4D86GG3"
   },
   "source": [
    "(Этот алгоритм работает за $O(n^3)$, но это только пока.)"
   ]
  },
  {
   "cell_type": "markdown",
   "metadata": {
    "colab_type": "text",
    "id": "1-8TSS2X3KV_"
   },
   "source": [
    "## Как это поможет решить исходную задачу?\n",
    "\n",
    "Давайте пока поверим, что мы умеем считать префикс-функцию за линейное от размера строки — как это делать, поясним дальше — и научимся с помощью нее искать подстроку в строке.\n",
    "\n",
    "Соединим подстроки $s$ и $t$ каким-нибудь символом, который не встречается ни там, ни там. Посмотрим на префикс-функцию получившейся строки $s\\#t$."
   ]
  },
  {
   "cell_type": "code",
   "execution_count": 19,
   "metadata": {
    "colab": {
     "base_uri": "https://localhost:8080/",
     "height": 74
    },
    "colab_type": "code",
    "executionInfo": {
     "elapsed": 615,
     "status": "ok",
     "timestamp": 1541171240549,
     "user": {
      "displayName": "Сергей Слотин",
      "photoUrl": "https://lh3.googleusercontent.com/-_FG0PkHG5nQ/AAAAAAAAAAI/AAAAAAAAAFY/Sckq9Gkm-mc/s64/photo.jpg",
      "userId": "13456807618518804390"
     },
     "user_tz": -180
    },
    "id": "ppqZBPNJ43v3",
    "outputId": "c23a3d9f-79aa-4f91-aff1-c7b574018535"
   },
   "outputs": [
    {
     "name": "stdout",
     "output_type": "stream",
     "text": [
      "let it go#let it go, let it go can't hold it back anymore let it go, let it go turn away and slam the door!\n",
      "00000000000123456789001234567890000000001000000000000000000123456789001234567890000000000000000100000000000\n"
     ]
    }
   ],
   "source": [
    "s = \"let it go\"\n",
    "t = \"\"\"let it go, let it go\n",
    "can't hold it back anymore\n",
    "let it go, let it go\n",
    "turn away and slam the door!\"\"\"\n",
    "\n",
    "print((s + '#' + t).replace('\\n', ' '))\n",
    "print(''.join([str(x) for x in slow_prefix_function(s + '#' + t)]))"
   ]
  },
  {
   "cell_type": "markdown",
   "metadata": {
    "colab_type": "text",
    "id": "42poAv3b44FM"
   },
   "source": [
    "Видно, что все места, где значения равны 9 (длине S) — это концы вхождений $s$ в текст $t$.\n",
    "\n",
    "Такой алгоритм (посчитать префикс-функцию от $s\\#t$ и посмотреть, в каких позициях она равна $|s|$) называется **алгоритмом Кнута-Морриса-Пратта**."
   ]
  },
  {
   "cell_type": "markdown",
   "metadata": {
    "colab_type": "text",
    "id": "mTIyGVuD3F8W"
   },
   "source": [
    "## Как её быстро считать\n",
    "\n",
    "Рассмотрим ещё несколько примеров префикс-функций:"
   ]
  },
  {
   "cell_type": "code",
   "execution_count": 10,
   "metadata": {
    "colab": {
     "base_uri": "https://localhost:8080/",
     "height": 90
    },
    "colab_type": "code",
    "executionInfo": {
     "elapsed": 610,
     "status": "ok",
     "timestamp": 1541170871458,
     "user": {
      "displayName": "Сергей Слотин",
      "photoUrl": "https://lh3.googleusercontent.com/-_FG0PkHG5nQ/AAAAAAAAAAI/AAAAAAAAAFY/Sckq9Gkm-mc/s64/photo.jpg",
      "userId": "13456807618518804390"
     },
     "user_tz": -180
    },
    "id": "GqsPPTjl75Wp",
    "outputId": "2b05fe9f-5eab-44bb-e651-c207c0723ae4"
   },
   "outputs": [
    {
     "name": "stdout",
     "output_type": "stream",
     "text": [
      "[0, 0, 1, 2, 3]\n",
      "[0, 0, 0, 0, 0, 0]\n",
      "[0, 0, 0, 1, 0, 1, 2, 3, 0, 1, 0]\n",
      "[0, 0, 0, 0, 1, 2, 1, 2, 1, 0, 0, 0, 0, 1, 2, 3, 4, 5, 6, 7, 8, 9, 10, 11]\n"
     ]
    }
   ],
   "source": [
    "for s in ['aaaaa', 'abcdef', 'abacabadava', 'antananarivuantananarivu']:\n",
    "    print(slow_prefix_function(s))"
   ]
  },
  {
   "cell_type": "markdown",
   "metadata": {
    "colab_type": "text",
    "id": "HO_PjgzR7514"
   },
   "source": [
    "Можно заметить несколько особенностей:\n",
    "* $p_0 = 0$ для всех строк: префикс подстроки из первого символа, который не совпадает со всей строкой — это только пустой префикс;\n",
    "* $p_{i+1}$ максимум на единицу превосходит $p_i$: если есть префикс, равный суффиксу строки $s_0 s_1 \\ldots s_{i+1}$ длины $p_{i+1}$, то, отбросив последний символ, можно получить и правильный суффикс для строки $s_0 s_1 \\ldots s_i$, длина которого будет ровно на единицу меньше.\n",
    "\n",
    "Хочется придумать алгоритм, как считать префикс-функцию за $O(N)$. Логично это делать с помощью динамики: найти формулу для $p_i$ через предыдущие значения.\n",
    "\n",
    "Заметим, что $p_{i+1} = p_i + 1$ в том и только том случае, когда $s_{p_i} =s_{i+1}$. Например, в строке $\\underbrace{aabaa}t\\overbrace{aabaa}$ выделен максимальный префикс, равный суффиксу: $p_{10} = 5$. Если следующий символ равен будет равен $t$, то $p_{11} = p_{10} + 1 = 6$.\n",
    "\n",
    "Но что происходит, когда $s_{p_i}\\neq s_{i+1}$? Пусть следующий символ в этой же строке равен $b$.\n",
    "* $\\implies$ Тогда длина префикса, равного суффиксу новой строки, будет точно меньше 5.\n",
    "* $\\implies$ Значит, помимо того, что он является суффиксом «aabaa**b**», префикс является префиксом и подстроки «aabaa».\n",
    "* $\\implies$ Значит, следующий кандидат на проверку — это значение префикс-функции от «aabaa», то есть $p_4 = 2$.\n",
    "* $\\implies$ Если $s_2 = s_{11}$ (т. е. новый символ совпадает с идущим после префикса-кандидата), то $p_{11} = p_2 + 1 = 2 + 1 = 3$.\n",
    "\n",
    "В данном случае это действительно так (нужный префикс — «aab»). Но что делать, если, в общем случае, $p_{i+1} \\neq p_{p_i+1} $? Тогда мы проводим такое же рассуждение и получаем нового кандидата, меньшей длины — $p_{p_{p_i}}$. Если и этот не подошел — аналогично проверяем меньшего, пока этот индекс не станет нулевым."
   ]
  },
  {
   "cell_type": "code",
   "execution_count": 20,
   "metadata": {
    "colab": {
     "base_uri": "https://localhost:8080/",
     "height": 35
    },
    "colab_type": "code",
    "executionInfo": {
     "elapsed": 844,
     "status": "ok",
     "timestamp": 1541171880825,
     "user": {
      "displayName": "Сергей Слотин",
      "photoUrl": "https://lh3.googleusercontent.com/-_FG0PkHG5nQ/AAAAAAAAAAI/AAAAAAAAAFY/Sckq9Gkm-mc/s64/photo.jpg",
      "userId": "13456807618518804390"
     },
     "user_tz": -180
    },
    "id": "n22PhVaYUlp4",
    "outputId": "830132ae-5568-4c3d-ae32-3ecaf51e7734"
   },
   "outputs": [
    {
     "data": {
      "text/plain": [
       "[0, 0, 1, 0, 1, 2, 3, 0, 1, 2, 3, 4, 5, 6, 7, 0]"
      ]
     },
     "execution_count": 20,
     "metadata": {
      "tags": []
     },
     "output_type": "execute_result"
    }
   ],
   "source": [
    "def fast_prefix_function(s):\n",
    "    n = len(s)\n",
    "    p = [0]*n\n",
    "    for i in range(1, n):\n",
    "        cur = p[i - 1]\n",
    "        # перебираем префикс-функцию, пока не найдем равный символ\n",
    "        while s[i] != s[cur] and cur > 0:\n",
    "            cur = p[cur - 1]\n",
    "         # если нашли, то значение на единицу больше\n",
    "        if s[i] == s[cur]:\n",
    "            p[i] = cur + 1\n",
    "    return p\n",
    "\n",
    "fast_prefix_function('abacabadabacabax')"
   ]
  },
  {
   "cell_type": "markdown",
   "metadata": {
    "colab_type": "text",
    "id": "skwRhzxQUlp9"
   },
   "source": [
    "### Асимптотика\n",
    "\n",
    "Почему это работает за $O(N)$? В худшем случае этот `while` может работать $O(N)$ раз за одну итерацию. Но оказывается, что *в среднем* каждый `while` работает за $O(1)$ — это называется амортизированной асимптотикой.\n",
    "\n",
    "**Доказательство**:\n",
    "* Как мы ранее заметили, префикс функция возрастает максимум на единицу.\n",
    "* $\\implies$ Вырасти она может максимум $n-1$ раз.\n",
    "* Если мы зашли в `while`, то каждая его итерация понижает значение префикс-функции хотя бы на один.\n",
    "* $\\implies$ Количество понижений не больше количества повышений, то есть $O(n)$.\n",
    "* $\\implies$ Суммарно итераций цикла `while` — $O(n)$."
   ]
  },
  {
   "cell_type": "markdown",
   "metadata": {
    "colab_type": "text",
    "id": "cDkYM1JMUlqC"
   },
   "source": [
    "## Z-функция\n",
    "\n",
    "Альтернатива префикс-функции — z-функция (*примечание: не «зи», а «зет»*). Она немного проще для понимания.\n",
    "\n",
    "Z-функция от строки $s$ — это такой массив $z$, что $z_i$ равно длине максимальной подстроки, **начинающейся** с $i$-й позиции, которая равна префиксу $s$.\n",
    "\n",
    "$$\\underbrace{aba}c\\overbrace{aba}daba \\hspace{1em} (z_4 = 3)$$"
   ]
  },
  {
   "cell_type": "code",
   "execution_count": 5,
   "metadata": {},
   "outputs": [
    {
     "name": "stdout",
     "output_type": "stream",
     "text": [
      "[0, 0, 1, 0, 3, 0, 1, 0, 3, 0, 1]\n",
      "[0, 0, 0, 0, 3, 1, 0, 5, 1, 0, 0, 1]\n",
      "[0, 0, 0, 2, 0, 2, 0, 1, 0, 0, 0, 0, 11, 0, 0, 2, 0, 2, 0, 1, 0, 0, 0, 0]\n"
     ]
    }
   ],
   "source": [
    "def slow_z_function(s):\n",
    "    n = len(s)\n",
    "    z = [0]*n\n",
    "    for i in range(1, n):\n",
    "        suffix = s[i:]\n",
    "        for l in range(1, i):\n",
    "            if s[:l] == suffix[:l]:\n",
    "                z[i] = l\n",
    "    return z\n",
    "\n",
    "for s in ['abacabadaba', 'aabcaabaabca', 'antananarivuantananarivu']:\n",
    "    print(slow_z_function(s))"
   ]
  },
  {
   "cell_type": "markdown",
   "metadata": {},
   "source": [
    "Z-функцию можно использовать вместо префикс-функции в алгоритме Кнута-Морриса-Пратта — только теперь нужные позиции будут начинаться c $s$, а не заканчиваться. Осталось научиться её искать за $O(n)$."
   ]
  },
  {
   "cell_type": "markdown",
   "metadata": {},
   "source": [
    "## Как её быстро считать\n",
    "\n",
    "Заметим, что:\n",
    "* $z_0 = 0$ — из-за договоренности (потому что информации не несет);\n",
    "* $z_i = 0 \\iff s_i \\neq s_0$;\n",
    "* $z_i > 0 \\iff s_i = s_0$.\n",
    "\n",
    "Будем идти слева направо и хранить *z-блок* — самую правую подстроку, равную префиксу, которую мы успели обнаружить. Будем обозначать его границы как $l$ и $r$.\n",
    "\n",
    "Пусть мы сейчас хотим найти $z_i$, а все предыдущие уже нашли. Если новый, $i$-й символ не лежит левее z-блока, значит он лежит либо в z-блоке, либо правее.\n",
    "* Если правее, то мы просто наивно перебором найдем $z_i$ (максимальный отрезок, начинающийся с $s_i$ и равный префиксу), и объявим его новым z-блоком.\n",
    "* Если $i$-й элемент лежит внутри z-блока, то мы можем посмотреть на значение $z_{i-l}$ и использовать его, чтобы инициализировать $z_i$ чем-то, возможно, отличным от нуля. Если $z_{i-l}$ «не хватает» до границы $z$-блока, то $z_i = z_{i-l}$. Если он упирается, в границу, то «обрежем» его до известной границы и будем увеличивать на единичку."
   ]
  },
  {
   "cell_type": "code",
   "execution_count": 1,
   "metadata": {},
   "outputs": [],
   "source": [
    "def fast_z_function(s):\n",
    "    n = len(s)\n",
    "    z = [0]*n\n",
    "    l = 0\n",
    "    r = 0\n",
    "    for i in range(1, n):\n",
    "        if i <= r:\n",
    "            z[i] = min(r - i + 1, z[i-l])\n",
    "        while i + z[i] < n and s[z[i]] == s[i+z[i]]:\n",
    "            z[i] += 1\n",
    "        if i + z[i] - 1 > r:\n",
    "            l = i\n",
    "            r = i +  z[i] - 1\n",
    "    return z"
   ]
  },
  {
   "cell_type": "markdown",
   "metadata": {},
   "source": [
    "**Асимптотика**. В алгоритме мы делаем столько действий, сколько раз сдвигается правая граница z-блока — а это $O(n)$."
   ]
  },
  {
   "cell_type": "markdown",
   "metadata": {},
   "source": [
    "## Зачем тогда люди используют префикс-функцию\n",
    "\n",
    "![hz](https://cs8.pikabu.ru/post_img/2016/12/13/5/1481615023179882832.jpg)\n",
    "\n",
    "В целом они очень похожи, но алгоритм Кнута-Морриса-Пратта есть во всех классических учебниках по программированию, а про Z-функция почему-то мало кто знает кроме олимпиадных программистов.\n",
    "\n",
    "Про префикс-функцию важно ещё знать, что она онлайновая — достаточно считать следующий символ, и сразу можно узнать значение."
   ]
  }
 ],
 "metadata": {
  "colab": {
   "collapsed_sections": [],
   "name": "8_kmp-trie.ipynb",
   "provenance": [],
   "version": "0.3.2"
  },
  "kernelspec": {
   "display_name": "Python 3",
   "language": "python",
   "name": "python3"
  },
  "language_info": {
   "codemirror_mode": {
    "name": "ipython",
    "version": 3
   },
   "file_extension": ".py",
   "mimetype": "text/x-python",
   "name": "python",
   "nbconvert_exporter": "python",
   "pygments_lexer": "ipython3",
   "version": "3.6.6"
  }
 },
 "nbformat": 4,
 "nbformat_minor": 1
}
