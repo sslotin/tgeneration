{
 "cells": [
  {
   "cell_type": "markdown",
   "metadata": {},
   "source": [
    "# Стресс-тестирование\n",
    "\n",
    "* Метод поиска багов, заключающийся в генерации случайных тестов и сравнивании результатов двух решений\n",
    "* Очень полезен на школьных олимпиадах, когда есть много времени, или когда уже написанно решение на маленькие подгруппы"
   ]
  },
  {
   "cell_type": "markdown",
   "metadata": {},
   "source": [
    "Суть такая:\n",
    "* Есть решение `smart` — быстрое, но в котором есть баг, который хотим найти\n",
    "* Пишем решение `stupid` — медленное, но точно корректное\n",
    "* Пишем генератор `gen` — печатает какой-то корректный тест, сгенерированный случайно\n",
    "* Кормим всё в скрипт `checker`, который n раз генерирует тест, даёт его на ввод `stupid`-у и `smart`-у, сравнивает выводы и останавливается, когда они отличаются"
   ]
  },
  {
   "cell_type": "markdown",
   "metadata": {},
   "source": [
    "Примерный код скрипта:"
   ]
  },
  {
   "cell_type": "code",
   "execution_count": null,
   "metadata": {
    "collapsed": true
   },
   "outputs": [],
   "source": [
    "import os, sys\n",
    "\n",
    "f1, f2, gen, iters = sys.argv\n",
    "\n",
    "for i in range(int(iters)):\n",
    "    print('Test', i+1)\n",
    "    os.popen('python3 %s > test.txt' % gen)\n",
    "    v1 = os.popen('./%s < test.txt' % f1).read()\n",
    "    v2 = os.popen('./%s < test.txt' % f2).read()\n",
    "    if v1 != v2:\n",
    "        print test\n",
    "        print(\"Correct:\")\n",
    "        print v1\n",
    "        print(\"Wrong:\")\n",
    "        print v2\n",
    "        break"
   ]
  },
  {
   "cell_type": "markdown",
   "metadata": {},
   "source": [
    "Автор обычно запускает его командой `python3 checker.py stupid smart gen.py 100`, предварительно скомпилировав `stupid` и `smart` в ту же директорию, что и сам `checker.py`.\n",
    "\n",
    "Скрипт написан под Linux. Для Windows нужно убрать «`./`» во всех системных вызовах.\n",
    "\n",
    "`gen.py` автор тоже обычно пишет на питоне, но вообще его тоже можно писать на чём угодно, сделать исполняемым и вызывать через `./gen`. Пример `gen`-а, генерирующего случайную строку из символов \"a\", \"b\" и \"c\" длины от 1 до 10:"
   ]
  },
  {
   "cell_type": "code",
   "execution_count": null,
   "metadata": {
    "collapsed": true
   },
   "outputs": [],
   "source": [
    "from random import randint, choice\n",
    "\n",
    "n = randint(1, 10)\n",
    "\n",
    "print(n)\n",
    "\n",
    "for _ in range(n):\n",
    "    print(choice('abc'), end='')"
   ]
  }
 ],
 "metadata": {
  "kernelspec": {
   "display_name": "Python 3",
   "language": "python",
   "name": "python3"
  },
  "language_info": {
   "codemirror_mode": {
    "name": "ipython",
    "version": 3
   },
   "file_extension": ".py",
   "mimetype": "text/x-python",
   "name": "python",
   "nbconvert_exporter": "python",
   "pygments_lexer": "ipython3",
   "version": "3.5.2"
  }
 },
 "nbformat": 4,
 "nbformat_minor": 2
}
