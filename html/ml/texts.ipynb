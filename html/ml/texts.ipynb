{
 "cells": [
  {
   "cell_type": "markdown",
   "metadata": {},
   "source": [
    "План:\n",
    "1. Обсуждение задач в которых нужен анализ текстов и конкретных задач в анализе текстов ~10 минут + рассматриваем в чем особенности анализа текстов ~10 минут\n",
    "bag of words\n",
    "размерность\n",
    "2. TF~10 минут, TF-IDf\n",
    "Понимаем что препроцессинг данных это очень важно. Пунктуация, \n",
    "3. Токенизация, использование буквенных и словарных n-грамм, отключение стопслов\n",
    "4. Косинусные расстояния между словами\n",
    "5. PyMorphy2\n",
    "6. Pymystem3\n",
    "\n",
    "\n",
    "\n",
    "Last: Yelp comptetition"
   ]
  },
  {
   "cell_type": "markdown",
   "metadata": {},
   "source": [
    "https://habr.com/post/346206/"
   ]
  },
  {
   "cell_type": "markdown",
   "metadata": {},
   "source": [
    "https://www.kaggle.com/alvations/basic-nlp-with-nltk"
   ]
  },
  {
   "cell_type": "markdown",
   "metadata": {},
   "source": [
    "\n",
    "https://medium.com/tensorist/classifying-yelp-reviews-using-nltk-and-scikit-learn-c58e71e962d9"
   ]
  },
  {
   "cell_type": "markdown",
   "metadata": {},
   "source": [
    "https://habr.com/company/ods/blog/325422/#teksty"
   ]
  },
  {
   "cell_type": "markdown",
   "metadata": {},
   "source": [
    "https://habr.com/company/mailru/blog/339496/"
   ]
  },
  {
   "cell_type": "markdown",
   "metadata": {},
   "source": [
    "\n",
    "https://www.ibm.com/developerworks/ru/library/os-pythonnltk/index.html"
   ]
  },
  {
   "cell_type": "markdown",
   "metadata": {},
   "source": [
    "https://vk.com/videos-162350297?z=video-162350297_456239029%2Fclub162350297%2Fpl_-162350297_-2"
   ]
  },
  {
   "cell_type": "markdown",
   "metadata": {},
   "source": [
    "\n",
    "https://vk.com/videos-162350297?z=video-162350297_456239029%2Fclub162350297%2Fpl_-162350297_-2"
   ]
  },
  {
   "cell_type": "code",
   "execution_count": 6,
   "metadata": {},
   "outputs": [],
   "source": [
    "# рассматриваем все на примере Новостных групп, задание на YELP"
   ]
  },
  {
   "cell_type": "code",
   "execution_count": null,
   "metadata": {},
   "outputs": [],
   "source": []
  }
 ],
 "metadata": {
  "kernelspec": {
   "display_name": "Python 3",
   "language": "python",
   "name": "python3"
  },
  "language_info": {
   "codemirror_mode": {
    "name": "ipython",
    "version": 3
   },
   "file_extension": ".py",
   "mimetype": "text/x-python",
   "name": "python",
   "nbconvert_exporter": "python",
   "pygments_lexer": "ipython3",
   "version": "3.6.4"
  }
 },
 "nbformat": 4,
 "nbformat_minor": 2
}
