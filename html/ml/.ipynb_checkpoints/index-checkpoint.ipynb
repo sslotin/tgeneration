{
 "cells": [
  {
   "cell_type": "markdown",
   "metadata": {},
   "source": [
    "# Tinkoff Generation — Машинное обучение\n",
    "\n",
    "1. ...\n",
    "2. ...\n",
    "3. ...\n",
    "\n",
    "Преподаватели:\n",
    "\n",
    "* [Никита Комаров](http://t.me/glazastyi)\n",
    "* [Кирилл Васильев](http://t.me/Starstrider)\n",
    "* [Мария Яворская](http://t.me/NeoCub)\n",
    "* [Евгения Ческидова](http://t.me/fogside)\n",
    "* [Руслан Петров](http://t.me/petrovrus)\n",
    "* [Андрей Гаркавый](http://t.me/andrewgark)\n",
    "* [Сергей Слотин](http://t.me/bydlokoder)"
   ]
  }
 ],
 "metadata": {
  "kernelspec": {
   "display_name": "Python 3",
   "language": "python",
   "name": "python3"
  },
  "language_info": {
   "codemirror_mode": {
    "name": "ipython",
    "version": 3
   },
   "file_extension": ".py",
   "mimetype": "text/x-python",
   "name": "python",
   "nbconvert_exporter": "python",
   "pygments_lexer": "ipython3",
   "version": "3.6.6"
  }
 },
 "nbformat": 4,
 "nbformat_minor": 2
}
