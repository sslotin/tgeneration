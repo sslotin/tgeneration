{
 "cells": [
  {
   "cell_type": "markdown",
   "metadata": {},
   "source": [
    "# Машинное обучение\n",
    "\n",
    "* Задачи машинного обучения\n",
    "* Работа с данными\n",
    "* Проблема переобучения\n",
    "* Классификация\n",
    "* [Обучение без учителя](unsupervised)\n",
    "* [Решающие деревья](decision_trees)\n",
    "* [Обработка текстов](texts)\n",
    "* Информационный поиск\n",
    "* Рекомендательные системы\n",
    "\n",
    "Преподаватели:\n",
    "\n",
    "* [Никита Комаров](http://t.me/glazastyi)\n",
    "* [Кирилл Васильев](http://t.me/Starstrider)\n",
    "* [Мария Яворская](http://t.me/NeoCub)\n",
    "* [Евгения Ческидова](http://t.me/fogside)\n",
    "* [Руслан Петров](http://t.me/petrovrus)\n",
    "* [Андрей Гаркавый](http://t.me/andrewgark)\n",
    "* [Сергей Слотин](http://t.me/bydlokoder)"
   ]
  }
 ],
 "metadata": {
  "kernelspec": {
   "display_name": "Python 3",
   "language": "python",
   "name": "python3"
  },
  "language_info": {
   "codemirror_mode": {
    "name": "ipython",
    "version": 3
   },
   "file_extension": ".py",
   "mimetype": "text/x-python",
   "name": "python",
   "nbconvert_exporter": "python",
   "pygments_lexer": "ipython3",
   "version": "3.6.6"
  }
 },
 "nbformat": 4,
 "nbformat_minor": 2
}
