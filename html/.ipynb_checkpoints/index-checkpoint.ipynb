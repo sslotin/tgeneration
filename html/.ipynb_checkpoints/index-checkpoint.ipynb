{
 "cells": [
  {
   "cell_type": "markdown",
   "metadata": {},
   "source": [
    "# Tinkoff Generation — Конспекты\n",
    "\n",
    "На этом сайте находятся материалы и организационная информация «прогерских» курсов Tinkoff Generation.\n",
    "\n",
    "Разделы:\n",
    "\n",
    "* [Алгоритмы](/a/)\n",
    "* [Машинное обучение](/ml/)\n",
    "* [Глубокое обучение](/dl/)\n",
    "\n",
    "TODO: добавить вход по ключевому слову"
   ]
  }
 ],
 "metadata": {
  "kernelspec": {
   "display_name": "Python 3",
   "language": "python",
   "name": "python3"
  },
  "language_info": {
   "codemirror_mode": {
    "name": "ipython",
    "version": 3
   },
   "file_extension": ".py",
   "mimetype": "text/x-python",
   "name": "python",
   "nbconvert_exporter": "python",
   "pygments_lexer": "ipython3",
   "version": "3.6.6"
  }
 },
 "nbformat": 4,
 "nbformat_minor": 2
}
