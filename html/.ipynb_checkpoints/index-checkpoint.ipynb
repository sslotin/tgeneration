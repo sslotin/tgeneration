{
 "cells": [
  {
   "cell_type": "markdown",
   "metadata": {},
   "source": [
    "# Tinkoff Generation\n",
    "\n",
    "TODO: добавить вход по ключевому слову\n",
    "\n",
    "На этом сайте находятся ссылки, материалы и организационная информация «прогерских» курсов Tinkoff Generation.\n",
    "\n",
    "В исключительных случаях (например, если вы на время отбора уехали на межнар) возможно зачисление в середине курса.\n",
    "\n",
    "Конспекты:\n",
    "\n",
    "* [Алгоритмы](http://tgeneration.ru/a/)\n",
    "* [Машинное обучение](http://tgeneration.ru/ml/)\n",
    "* [Глубокое обучение](http://tgeneration.ru/dl/)\n",
    "\n",
    "Преподаватели:\n",
    "* [Сергей Слотин](http://t.me/bydlokoder) — B1, ML, DL\n",
    "* [Андрей Гаркавый](http://t.me/andrewgark) — C1, ML \n",
    "\n",
    "\n",
    "* [Даниил Николенко](http://t.me/qoo2p5) — A\n",
    "* [Филипп Грибов](http://t.me/grphil) — A\n",
    "\n",
    "\n",
    "* [Максим Деб Натх](http://t.me/DebNatkh) — B2\n",
    "* [Андрей Чулков](http://t.me/achulkov2) — B2\n",
    "* [Артём Рябов](http://t.me/tyomar) — B3\n",
    "\n",
    "\n",
    "* [Антон Алёшин](http://t.me/pntn13) — C2\n",
    "* [Максим Гришкин](http://t.me/riskingh) — C2\n",
    "* [Глеб Лобанов](http://t.me/Glebodin) — C3\n",
    "\n",
    "\n",
    "* [Никита Комаров](http://t.me/glazastyi) — ML\n",
    "* [Кирилл Васильев](http://t.me/Starstrider) — ML\n",
    "* [Мария Яворская](http://t.me/NeoCub) — ML\n",
    "* [Евгения Ческидова](http://t.me/fogside) — ML, DL\n",
    "* [Руслан Петров](http://t.me/petrovrus) — ML\n",
    "\n",
    "\n",
    "Организатор — [Татьяна Колинкова](http://t.me/Tatyana_Kolinkova)."
   ]
  }
 ],
 "metadata": {
  "kernelspec": {
   "display_name": "Python 3",
   "language": "python",
   "name": "python3"
  },
  "language_info": {
   "codemirror_mode": {
    "name": "ipython",
    "version": 3
   },
   "file_extension": ".py",
   "mimetype": "text/x-python",
   "name": "python",
   "nbconvert_exporter": "python",
   "pygments_lexer": "ipython3",
   "version": "3.6.6"
  }
 },
 "nbformat": 4,
 "nbformat_minor": 2
}
