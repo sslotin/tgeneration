{
 "cells": [
  {
   "cell_type": "markdown",
   "metadata": {},
   "source": [
    "# Глубокое обучение\n",
    "\n",
    "* [Введение в нейросети](https://github.com/sslotin/tinkoff-dl/blob/master/hw_morphing.ipynb)\n",
    "* [Свёрточные сети](https://gist.github.com/sslotin/a649ebf358c613d7b495dcab756d6016)\n",
    "* [Backpropagation](https://github.com/sslotin/tinkoff-dl/blob/master/hw_backprop.ipynb)\n",
    "* [Вход как изменяемый параметр](https://pytorch.org/tutorials/advanced/neural_style_tutorial.html)\n",
    "* [Генеративное моделирование](https://github.com/sslotin/universum-dl/blob/master/generative_adversarial_networks.ipynb)\n",
    "* [Генеративное моделирование II](https://github.com/sslotin/GANime)\n",
    "* [Рекуррентные сети](https://github.com/sslotin/universum-dl/blob/master/recurrent_networks.ipynb)\n",
    "* [Языковые модели](https://gist.github.com/sslotin/2d0cfef3856db65345ebc6a8c080344f)\n",
    "* [Seq2seq](https://pytorch.org/tutorials/intermediate/seq2seq_translation_tutorial.html)\n",
    "* [Reinforcement Learning](https://gist.github.com/sslotin/cc1e20e8ab3c1f271e9b40a88807366c)\n",
    "* [Частично наблюдаемые состояния](https://gist.github.com/sslotin/4cd80446953563cc5940df7ce99d43c2)\n",
    "\n",
    "Преподаватели:\n",
    "\n",
    "* [Сергей Слотин](http://t.me/bydlokoder)\n",
    "* [Евгения Ческидова](http://t.me/fogside)"
   ]
  }
 ],
 "metadata": {
  "kernelspec": {
   "display_name": "Python 3",
   "language": "python",
   "name": "python3"
  },
  "language_info": {
   "codemirror_mode": {
    "name": "ipython",
    "version": 3
   },
   "file_extension": ".py",
   "mimetype": "text/x-python",
   "name": "python",
   "nbconvert_exporter": "python",
   "pygments_lexer": "ipython3",
   "version": "3.6.6"
  }
 },
 "nbformat": 4,
 "nbformat_minor": 2
}
