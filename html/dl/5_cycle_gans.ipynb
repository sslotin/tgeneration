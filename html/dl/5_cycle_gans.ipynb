{
 "cells": [
  {
   "cell_type": "markdown",
   "metadata": {
    "colab_type": "text",
    "id": "K97CO8GuZ-Dg"
   },
   "source": [
    "# Unsupervised Translation"
   ]
  },
  {
   "cell_type": "markdown",
   "metadata": {},
   "source": [
    "Сегодня мы пойдём дальше в ганах и научимся делать выравнивание распределений, а также пообсуждаем более продвинутые методики для обучения ганов.\n",
    "\n",
    "[гифка с зебрами]"
   ]
  },
  {
   "cell_type": "markdown",
   "metadata": {},
   "source": []
  },
  {
   "cell_type": "markdown",
   "metadata": {},
   "source": [
    "[картинка с Путиным]"
   ]
  },
  {
   "cell_type": "code",
   "execution_count": null,
   "metadata": {},
   "outputs": [],
   "source": []
  },
  {
   "cell_type": "markdown",
   "metadata": {},
   "source": [
    "# Вассерштейново расстояние и эвристики\n",
    "\n",
    "Обучение GAN-ов не на игрушечных данных **очень** нестабильно. Придумали множество костылей, чтомы его улучшить:\n",
    "* Делать лэйблы не 0 и 1, а 0.1 и 0.9 или что-то близкое.\n",
    "* Выкинуть нафиг эту KL-дивергенцию. Оказывается, она не сходится и может вызывать взрывающие / затухающие градиенты. Вместо неё можно использовать Earth Moving.\n",
    "* Напрямую делать penalty на слишком большой или слишком маленький градиент.\n",
    "* На каждую итерацию итератора несколько итераций дискриминатора."
   ]
  }
 ],
 "metadata": {
  "colab": {
   "name": "8_cycle_gans.ipynb",
   "provenance": [],
   "version": "0.3.2"
  },
  "kernelspec": {
   "display_name": "Python 3",
   "language": "python",
   "name": "python3"
  },
  "language_info": {
   "codemirror_mode": {
    "name": "ipython",
    "version": 3
   },
   "file_extension": ".py",
   "mimetype": "text/x-python",
   "name": "python",
   "nbconvert_exporter": "python",
   "pygments_lexer": "ipython3",
   "version": "3.6.5"
  }
 },
 "nbformat": 4,
 "nbformat_minor": 1
}
